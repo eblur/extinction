{
 "cells": [
  {
   "cell_type": "code",
   "execution_count": 1,
   "metadata": {},
   "outputs": [],
   "source": [
    "import numpy as np\n",
    "import matplotlib.pyplot as plt\n",
    "\n",
    "import astropy.units as u\n",
    "from astropy.table import Table\n",
    "\n",
    "%matplotlib inline"
   ]
  },
  {
   "cell_type": "markdown",
   "metadata": {},
   "source": [
    "# Verner cross-sections from VizieR\n",
    "\n",
    "http://astroquery.readthedocs.io/en/latest/vizier/vizier.html"
   ]
  },
  {
   "cell_type": "code",
   "execution_count": 2,
   "metadata": {
    "collapsed": true
   },
   "outputs": [],
   "source": [
    "from astroquery.vizier import Vizier"
   ]
  },
  {
   "cell_type": "code",
   "execution_count": 3,
   "metadata": {},
   "outputs": [],
   "source": [
    "# should work when connected to internet and VizieR website is working\n",
    "try:\n",
    "    TABLE_NAME = 'J/A+AS/109/125/table1'\n",
    "    Vizier.ROW_LIMIT = -1\n",
    "    vy1995 = Vizier.get_catalogs(TABLE_NAME)[TABLE_NAME]\n",
    "    vy1995.write('VY1995_vizier.txt', format='ascii', overwrite=True)\n",
    "# if not, open the saved file\n",
    "except:\n",
    "    vy1995 = Table.read('VY1995_vizier.txt')"
   ]
  },
  {
   "cell_type": "code",
   "execution_count": 4,
   "metadata": {
    "collapsed": true
   },
   "outputs": [],
   "source": [
    "def get_element(z, ion=None, shell=None):\n",
    "    \"\"\"\n",
    "    Returns\n",
    "    -------\n",
    "    Boolean array that filters the Verner & Yaklovev 1995 table of analytic formulae \n",
    "    for atomic photoelectric absorption cross-sections.\n",
    "    \n",
    "    Inputs\n",
    "    ------\n",
    "    z : int\n",
    "        Atomic number\n",
    "        \n",
    "    ion : int\n",
    "        Ion state (0 = neutral, 1 = singly ionized, etc..)\n",
    "        The default (None) will return a filter for any ion state of \n",
    "        element with atomic number `z`\n",
    "    \n",
    "    shell : int\n",
    "        The Principle quantum number of the shell. Default (1)\n",
    "    \"\"\"\n",
    "    result = (vy1995['Z'] == z)\n",
    "    \n",
    "    if ion is not None:\n",
    "        assert (ion >= 0) and (ion < z)\n",
    "        n_electrons = z - ion\n",
    "        result = result & (vy1995['N'] == n_electrons)\n",
    "    \n",
    "    if shell is not None:\n",
    "        result = result & (vy1995['n'] == shell)\n",
    "    \n",
    "    return result"
   ]
  },
  {
   "cell_type": "code",
   "execution_count": 5,
   "metadata": {},
   "outputs": [
    {
     "data": {
      "text/plain": [
       "30"
      ]
     },
     "execution_count": 5,
     "metadata": {},
     "output_type": "execute_result"
    }
   ],
   "source": [
    "np.max(vy1995['Z'])"
   ]
  },
  {
   "cell_type": "code",
   "execution_count": 6,
   "metadata": {},
   "outputs": [
    {
     "data": {
      "text/html": [
       "<i>Table masked=True length=3</i>\n",
       "<table id=\"table34781437400\" class=\"table-striped table-bordered table-condensed\">\n",
       "<thead><tr><th>Z</th><th>N</th><th>n</th><th>l</th><th>E_th_</th><th>E_0_</th><th>sigma_0_</th><th>y_a_</th><th>P</th><th>y_w_</th></tr></thead>\n",
       "<thead><tr><th></th><th></th><th></th><th></th><th>eV</th><th>eV</th><th>Mbarn</th><th></th><th></th><th></th></tr></thead>\n",
       "<thead><tr><th>int16</th><th>int16</th><th>uint8</th><th>uint8</th><th>float32</th><th>float32</th><th>float32</th><th>float32</th><th>float32</th><th>float32</th></tr></thead>\n",
       "<tr><td>8</td><td>8</td><td>2</td><td>1</td><td>13.6</td><td>13.9</td><td>1.22e+05</td><td>1.36</td><td>11.4</td><td>0.41</td></tr>\n",
       "<tr><td>8</td><td>8</td><td>2</td><td>0</td><td>28.5</td><td>19.9</td><td>242</td><td>3.24</td><td>8.04</td><td>0</td></tr>\n",
       "<tr><td>8</td><td>8</td><td>1</td><td>0</td><td>538</td><td>177</td><td>32.4</td><td>381</td><td>1.08</td><td>0</td></tr>\n",
       "</table>"
      ],
      "text/plain": [
       "<Table masked=True length=3>\n",
       "  Z     N     n     l   ...  sigma_0_     y_a_        P         y_w_   \n",
       "                        ...   Mbarn                                    \n",
       "int16 int16 uint8 uint8 ...  float32    float32    float32    float32  \n",
       "----- ----- ----- ----- ... ---------- ---------- ---------- ----------\n",
       "    8     8     2     1 ...   1.22e+05       1.36       11.4       0.41\n",
       "    8     8     2     0 ...        242       3.24       8.04          0\n",
       "    8     8     1     0 ...       32.4        381       1.08          0"
      ]
     },
     "execution_count": 6,
     "metadata": {},
     "output_type": "execute_result"
    }
   ],
   "source": [
    "vy1995[get_element(8, 0)]"
   ]
  },
  {
   "cell_type": "markdown",
   "metadata": {},
   "source": [
    "Equation 1 of [Verner & Yaklovev 1995](http://adsabs.harvard.edu/abs/1995A%26AS..109..125V)\n",
    "\n",
    "$$ \\sigma_{nl} = \\sigma_0 F(E/E_0) ~ {\\rm Mb} $$\n",
    "\n",
    "where\n",
    "\n",
    "$$ F(y) = [(y-1)^2+ y_w^2] ~ y^{-Q} ~ \\left( 1 + \\sqrt{y/y_a} \\right)^{-P} $$\n",
    "\n",
    "where\n",
    "\n",
    "$$ Q = 5.5 + l - 0.5 P $$\n",
    "\n",
    "where $l$ is the subshell orbital quantum number (e.g., 0, 1, 2 for s, p, d, respectively).\n",
    "\n",
    "The parameters $\\sigma_0$, $y_a$, $y_w$, and $P$ are provided by the tables."
   ]
  },
  {
   "cell_type": "code",
   "execution_count": 7,
   "metadata": {},
   "outputs": [
    {
     "data": {
      "text/plain": [
       "9.999999999999999e-19"
      ]
     },
     "execution_count": 7,
     "metadata": {},
     "output_type": "execute_result"
    }
   ],
   "source": [
    "u.Mbarn.to('cm^2')"
   ]
  },
  {
   "cell_type": "code",
   "execution_count": 8,
   "metadata": {},
   "outputs": [],
   "source": [
    "def _compute_xsect_from_row(egrid, row):\n",
    "    Z, N, n, l, E_th, E_0, sigma_0, y_a, P, y_w = row\n",
    "    #print(Z, N, n, l, E_th, E_0, sigma_0, y_a, P, y_w)\n",
    "    \n",
    "    # VY1995 formula\n",
    "    y = egrid.to('eV') / (E_0 * u.eV)\n",
    "    Q = 5.5 + l - 0.5 * P\n",
    "    F = ((y-1.)**2 + y_w**2) * np.power(y, -Q) * np.power((1. + np.sqrt(y/y_a)), -P)\n",
    "    formula = sigma_0 * u.Mbarn * F\n",
    "    \n",
    "    # everything below the threshold energy is zero\n",
    "    efilt   = egrid.to('eV').value > E_th\n",
    "    result  = np.zeros(len(egrid)) * u.Mbarn\n",
    "    result[efilt] = formula[efilt]\n",
    "    return result"
   ]
  },
  {
   "cell_type": "code",
   "execution_count": 9,
   "metadata": {},
   "outputs": [],
   "source": [
    "def compute_xsect(egrid, z, ion=None, shell=None):\n",
    "    \"\"\"\n",
    "    Returns\n",
    "    -------\n",
    "    astropy.units.Quantity (array, units of 'Mbarn')\n",
    "        Returns the total photoelectric absorption cross-section computed for\n",
    "        the user specified element, ion(s), and shell(s).\n",
    "\n",
    "    Inputs\n",
    "    ------\n",
    "    egrid : astropy.units.Quantity (array)\n",
    "        Energy values for which to compute the cross-sections\n",
    "\n",
    "    z : int\n",
    "        Atomic number\n",
    "\n",
    "    ion : int\n",
    "        Ion state (0 = neutral, 1 = singly ionized, etc..)\n",
    "        The default (None) will return a filter for any ion state of\n",
    "        element with atomic number `z`.\n",
    "\n",
    "    shell : int\n",
    "        The Principle quantum number of the shell. \n",
    "        The default (None) will return a filter for any shell with\n",
    "        atomic number `z`.\n",
    "    \"\"\"\n",
    "    result = np.zeros(len(egrid)) * u.Mbarn\n",
    "    filt   = get_element(z, ion=ion, shell=shell)\n",
    "    rows   = vy1995[filt]\n",
    "    for r in rows:\n",
    "        result += _compute_xsect_from_row(egrid, r)\n",
    "    return result"
   ]
  },
  {
   "cell_type": "code",
   "execution_count": 10,
   "metadata": {},
   "outputs": [],
   "source": [
    "EGRID = np.logspace(-1, 1, 1000) * u.keV\n",
    "\n",
    "OI_K_par = vy1995[get_element(8, 0, 1)]\n",
    "OI_K = _compute_xsect_from_row(EGRID, OI_K_par[0])"
   ]
  },
  {
   "cell_type": "code",
   "execution_count": 11,
   "metadata": {},
   "outputs": [],
   "source": [
    "OI = compute_xsect(EGRID, 8, 0)"
   ]
  },
  {
   "cell_type": "code",
   "execution_count": 12,
   "metadata": {},
   "outputs": [],
   "source": [
    "O = compute_xsect(EGRID, 8)"
   ]
  },
  {
   "cell_type": "code",
   "execution_count": 13,
   "metadata": {},
   "outputs": [
    {
     "data": {
      "text/plain": [
       "<matplotlib.legend.Legend at 0x8192da1d0>"
      ]
     },
     "execution_count": 13,
     "metadata": {},
     "output_type": "execute_result"
    },
    {
     "data": {
      "image/png": "[encoded data removed]",
      "text/plain": [
       "<Figure size 432x288 with 1 Axes>"
      ]
     },
     "metadata": {},
     "output_type": "display_data"
    }
   ],
   "source": [
    "plt.plot(EGRID, O.to('Mbarn'), label='All O')\n",
    "plt.plot(EGRID, OI.to('Mbarn'), label='OI')\n",
    "plt.plot(EGRID, OI_K.to('Mbarn'), label='OI K')\n",
    "plt.loglog()\n",
    "plt.xlabel('Energy ({})'.format(EGRID.unit))\n",
    "plt.ylabel('Cross-section (Mbarn)')\n",
    "plt.legend(loc='upper right')"
   ]
  },
  {
   "cell_type": "code",
   "execution_count": null,
   "metadata": {
    "collapsed": true
   },
   "outputs": [],
   "source": []
  }
 ],
 "metadata": {
  "kernelspec": {
   "display_name": "Python [conda env:newdust-dev]",
   "language": "python",
   "name": "conda-env-newdust-dev-py"
  },
  "language_info": {
   "codemirror_mode": {
    "name": "ipython",
    "version": 3
   },
   "file_extension": ".py",
   "mimetype": "text/x-python",
   "name": "python",
   "nbconvert_exporter": "python",
   "pygments_lexer": "ipython3",
   "version": "3.6.5"
  }
 },
 "nbformat": 4,
 "nbformat_minor": 2
}
