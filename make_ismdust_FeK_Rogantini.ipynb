{
 "cells": [
  {
   "cell_type": "markdown",
   "metadata": {},
   "source": [
    "# Put Fe K cross-section from Rogantini into ISMdust\n",
    "\n",
    "http://adsabs.harvard.edu/abs/2017arXiv170905359R"
   ]
  },
  {
   "cell_type": "code",
   "execution_count": 1,
   "metadata": {},
   "outputs": [],
   "source": [
    "import numpy as np\n",
    "import matplotlib.pyplot as plt\n",
    "\n",
    "%matplotlib inline"
   ]
  },
  {
   "cell_type": "code",
   "execution_count": 2,
   "metadata": {},
   "outputs": [],
   "source": [
    "from astropy.table import Table\n",
    "import astropy.units as u\n",
    "import astropy.constants as c\n",
    "\n",
    "from minerals import Mineral\n",
    "import abundances\n",
    "import VY1995"
   ]
  },
  {
   "cell_type": "code",
   "execution_count": 3,
   "metadata": {},
   "outputs": [],
   "source": [
    "# values come from FeK_Rogantini/tabs_CDS/ReadMe.txt\n",
    "olivine = Mineral({'Mg':1.56, 'Fe':0.4, 'Si':0.91, 'O':4}, name='Olivine') # I'm not sure if I'm reading this right"
   ]
  },
  {
   "cell_type": "code",
   "execution_count": 4,
   "metadata": {},
   "outputs": [],
   "source": [
    "dust_mass_ratio = 0.01 # dust to gas mass ratio\n",
    "NH = 1.e22 * u.Unit('cm^-2')\n",
    "MD = NH * c.m_p.to('g') * dust_mass_ratio"
   ]
  },
  {
   "cell_type": "code",
   "execution_count": 5,
   "metadata": {},
   "outputs": [],
   "source": [
    "olivine_xsect = Table.read('FeK_Rogantini/tabs_CDS/sample/olivine.dat', format='ascii', header_start=2, data_start=3)"
   ]
  },
  {
   "cell_type": "code",
   "execution_count": 6,
   "metadata": {},
   "outputs": [
    {
     "data": {
      "text/plain": [
       "['energy', 'extinction', 'scattering', 'absorption']"
      ]
     },
     "execution_count": 6,
     "metadata": {},
     "output_type": "execute_result"
    }
   ],
   "source": [
    "olivine_xsect.colnames"
   ]
  },
  {
   "cell_type": "code",
   "execution_count": 7,
   "metadata": {},
   "outputs": [],
   "source": [
    "def FeK_xsect(keyword, tbl):\n",
    "    assert keyword in olivine_xsect.colnames[1:]\n",
    "    energy = olivine_xsect['energy'] * u.keV\n",
    "    result = olivine_xsect[keyword] * u.Unit('cm^2')\n",
    "    return energy, result"
   ]
  },
  {
   "cell_type": "code",
   "execution_count": 8,
   "metadata": {},
   "outputs": [],
   "source": [
    "ener, exti = FeK_xsect('extinction', olivine_xsect)\n",
    "_, scat = FeK_xsect('scattering', olivine_xsect)\n",
    "_, abso = FeK_xsect('absorption', olivine_xsect)"
   ]
  },
  {
   "cell_type": "code",
   "execution_count": 9,
   "metadata": {},
   "outputs": [
    {
     "data": {
      "text/plain": [
       "<matplotlib.legend.Legend at 0x150b8f81d0>"
      ]
     },
     "execution_count": 9,
     "metadata": {},
     "output_type": "execute_result"
    },
    {
     "data": {
      "image/png": "[encoded data removed]",
      "text/plain": [
       "<matplotlib.figure.Figure at 0x150bd199e8>"
      ]
     },
     "metadata": {},
     "output_type": "display_data"
    }
   ],
   "source": [
    "plt.plot(ener, exti * NH, color='k', label='extinction')\n",
    "plt.plot(ener, scat * NH, color='r', ls='--', label='scattering')\n",
    "plt.plot(ener, abso * NH, color='r', ls=':', label='absorption')\n",
    "plt.xlabel('Energy ({})'.format(ener.unit))\n",
    "plt.ylabel(r'$\\tau$ (NH/10$^{22}$)')\n",
    "plt.legend(loc='upper right')"
   ]
  },
  {
   "cell_type": "markdown",
   "metadata": {},
   "source": [
    "## Compare this to ISMdust"
   ]
  },
  {
   "cell_type": "code",
   "execution_count": 10,
   "metadata": {},
   "outputs": [],
   "source": [
    "import os\n",
    "from astropy.io import fits\n",
    "\n",
    "ismdust_sil_filename = os.environ['ISMDUSTROOT'] + 'edge_files/silicate_xs.fits'"
   ]
  },
  {
   "cell_type": "code",
   "execution_count": 11,
   "metadata": {},
   "outputs": [],
   "source": [
    "ismdust_sil = fits.open(ismdust_sil_filename)"
   ]
  },
  {
   "cell_type": "code",
   "execution_count": 12,
   "metadata": {},
   "outputs": [
    {
     "data": {
      "text/plain": [
       "SIMPLE  =                    T / conforms to FITS standard                      \n",
       "BITPIX  =                    8 / array data type                                \n",
       "NAXIS   =                    0 / number of array dimensions                     \n",
       "EXTEND  =                    T                                                  \n",
       "AMIN    = '0.005   '                                                            \n",
       "AMAX    = '0.300   '                                                            \n",
       "P       = '3.500   '                                                            \n",
       "RHO     = '3.800   '                                                            \n",
       "MDUST   = '1.00e-04'                                                            \n",
       "GTYPE   = 'Silicate'                                                            \n",
       "COMMENT Created by liac@umich.edu on 2018-06-25                                 "
      ]
     },
     "execution_count": 12,
     "metadata": {},
     "output_type": "execute_result"
    }
   ],
   "source": [
    "## Note the parameters that were used to produce the ISMdust model\n",
    "ismdust_sil[0].header"
   ]
  },
  {
   "cell_type": "code",
   "execution_count": 13,
   "metadata": {},
   "outputs": [
    {
     "data": {
      "text/plain": [
       "ColDefs(\n",
       "    name = 'energy'; format = 'E'\n",
       "    name = 'angstroms'; format = 'E'\n",
       "    name = 'ext'; format = 'E'\n",
       "    name = 'sca'; format = 'E'\n",
       "    name = 'abs'; format = 'E'\n",
       ")"
      ]
     },
     "execution_count": 13,
     "metadata": {},
     "output_type": "execute_result"
    }
   ],
   "source": [
    "ismdust_sil[1].data.columns"
   ]
  },
  {
   "cell_type": "code",
   "execution_count": 14,
   "metadata": {},
   "outputs": [],
   "source": [
    "def sil_xsect(keyword, fitsfile):\n",
    "    fits_tbl = fitsfile[1].data\n",
    "    mdust = np.float(fitsfile[0].header['MDUST']) * u.Unit('g cm^-2')\n",
    "    assert keyword in fits_tbl.columns.names[2:]\n",
    "    energy = fits_tbl['energy'] * u.keV\n",
    "    result = fits_tbl[keyword] / mdust\n",
    "    return energy, result.to(u.Unit('g^-1 cm^2'))"
   ]
  },
  {
   "cell_type": "code",
   "execution_count": 15,
   "metadata": {},
   "outputs": [],
   "source": [
    "ener2, exti2 = sil_xsect('ext', ismdust_sil)\n",
    "_, scat2 = sil_xsect('sca', ismdust_sil)\n",
    "_, abso2 = sil_xsect('abs', ismdust_sil)"
   ]
  },
  {
   "cell_type": "code",
   "execution_count": 16,
   "metadata": {},
   "outputs": [
    {
     "data": {
      "text/plain": [
       "(0, 0.08)"
      ]
     },
     "execution_count": 16,
     "metadata": {},
     "output_type": "execute_result"
    },
    {
     "data": {
      "image/png": "[encoded data removed]",
      "text/plain": [
       "<matplotlib.figure.Figure at 0x150b8cbac8>"
      ]
     },
     "metadata": {},
     "output_type": "display_data"
    }
   ],
   "source": [
    "## One can see that ISMdust was not calculated at high resolution in this region\n",
    "## Mainly because the target was gratings data, which has evenly spaced resolution in angstrom\n",
    "plt.plot(ener2, exti2 * MD, color='k', marker='o', label='extinction')\n",
    "plt.plot(ener2, scat2 * MD, color='r', ls='--', label='scattering')\n",
    "plt.plot(ener2, abso2 * MD, color='r', ls=':', label='absorption')\n",
    "plt.xlabel('Energy ({})'.format(ener.unit))\n",
    "plt.ylabel(r'$\\tau$ (NH/10$^{22}$)')\n",
    "plt.legend(loc='upper right')\n",
    "plt.xlim(5.0, 8.5)\n",
    "plt.ylim(0, 0.08)"
   ]
  },
  {
   "cell_type": "markdown",
   "metadata": {},
   "source": [
    "# Compare extinction and absorption from all models"
   ]
  },
  {
   "cell_type": "markdown",
   "metadata": {},
   "source": [
    "## 1. Extinction"
   ]
  },
  {
   "cell_type": "code",
   "execution_count": 17,
   "metadata": {},
   "outputs": [
    {
     "data": {
      "text/plain": [
       "Text(0,0.5,'Extinction $\\\\tau$ (NH/10$^{22}$)')"
      ]
     },
     "execution_count": 17,
     "metadata": {},
     "output_type": "execute_result"
    },
    {
     "data": {
      "image/png": "[encoded data removed]",
      "text/plain": [
       "<matplotlib.figure.Figure at 0x150becb080>"
      ]
     },
     "metadata": {},
     "output_type": "display_data"
    }
   ],
   "source": [
    "plt.plot(ener, exti * NH, color='k', label='Rogantini')\n",
    "plt.plot(ener2, exti2 * MD, color='purple', marker='o', label='ISMdust')\n",
    "plt.xlim(5.0, 8.5)\n",
    "plt.ylim(0, 0.08)\n",
    "plt.legend(loc='upper right')\n",
    "plt.xlabel('Energy ({}'.format(ener.unit))\n",
    "plt.ylabel(r'Extinction $\\tau$ (NH/10$^{22}$)')\n",
    "#plt.savefig('compare_extinction.pdf', format='pdf')"
   ]
  },
  {
   "cell_type": "markdown",
   "metadata": {},
   "source": [
    "## 2. Absorption\n",
    "\n",
    "Also compare with expecations from Verner & Yaklovev (1995) absorption"
   ]
  },
  {
   "cell_type": "code",
   "execution_count": 18,
   "metadata": {},
   "outputs": [],
   "source": [
    "# mass of olivine unit cell\n",
    "olivine_unit_mass = sum([olivine.number(ele) * abundances.amu[ele] * c.u.to('g') for ele in olivine.elements])\n",
    "\n",
    "# number of olivine unit cells per NH=1e22 column density\n",
    "olivine_dens = MD / olivine_unit_mass"
   ]
  },
  {
   "cell_type": "code",
   "execution_count": 19,
   "metadata": {},
   "outputs": [],
   "source": [
    "# calculate cross-section component (area) from each element in olivine\n",
    "xsects = {ele:VY1995.compute_xsect(ener2, abundances.Z[ele], 0) * olivine.number(ele)\n",
    "          for ele in olivine.elements}\n",
    "\n",
    "# sum to obtain the cross-section per unit cel\n",
    "total_xsect = np.zeros(len(ener2)) * u.Unit('cm^2')\n",
    "for ele in xsects.keys():\n",
    "    total_xsect += xsects[ele].to('cm^2')"
   ]
  },
  {
   "cell_type": "code",
   "execution_count": 20,
   "metadata": {},
   "outputs": [
    {
     "data": {
      "image/png": "[encoded data removed]",
      "text/plain": [
       "<matplotlib.figure.Figure at 0x150bde5fd0>"
      ]
     },
     "metadata": {},
     "output_type": "display_data"
    }
   ],
   "source": [
    "plt.plot(ener, abso * NH, color='k', label='Rogantini')\n",
    "plt.plot(ener2, abso2 * MD, color='purple', marker='o', label='ISMdust')\n",
    "plt.plot(ener2, total_xsect * olivine_dens, color='orange', label='VY 1995')\n",
    "plt.xlim(5.0, 8.5)\n",
    "plt.ylim(0, 0.05)\n",
    "plt.legend(loc='upper right')\n",
    "plt.xlabel('Energy ({}'.format(ener.unit))\n",
    "plt.ylabel(r'Absorption $\\tau$ (NH/10$^{22}$)')\n",
    "plt.savefig('compare_absorption.pdf', format='pdf')"
   ]
  },
  {
   "cell_type": "markdown",
   "metadata": {},
   "source": [
    "### Piece together an ISM absorption cross-section"
   ]
  },
  {
   "cell_type": "code",
   "execution_count": 22,
   "metadata": {},
   "outputs": [],
   "source": [
    "# Making a function out of the above\n",
    "# does not take dust grain shielding into account (see Wilms 2000)\n",
    "def calculate_pure_absorption(energy, mineral, md=MD):\n",
    "    unit_mass = sum([mineral.number(ele) * abundances.amu[ele] * c.u.to('g')\n",
    "                     for ele in mineral.elements])\n",
    "    number_dens = md / unit_mass\n",
    "    xsects = {ele:VY1995.compute_xsect(energy, abundances.Z[ele], 0) * mineral.number(ele)\n",
    "              for ele in mineral.elements}\n",
    "    result = np.zeros(len(energy)) * u.Unit('cm^2')\n",
    "    for ele in mineral.elements:\n",
    "        result += xsects[ele].to('cm^2')\n",
    "    return result"
   ]
  },
  {
   "cell_type": "code",
   "execution_count": 23,
   "metadata": {},
   "outputs": [],
   "source": [
    "# Make a final energy grid\n",
    "new_abs_ener = np.append(np.append(np.append(\n",
    "    ener2[ener2 < ener[0]].value, \n",
    "    ener.value), \n",
    "    ener2[ener2 > ener[-1]].value), \n",
    "    np.arange(ener2[-1].value + 0.1, 300.01, 0.1)) * u.keV\n",
    "\n",
    "# mask for energy values used in Rogantini cross-section\n",
    "rog_eners = (new_abs_ener >= ener[0]) & (new_abs_ener <= ener[-1])"
   ]
  },
  {
   "cell_type": "code",
   "execution_count": null,
   "metadata": {},
   "outputs": [],
   "source": [
    "# Evaluate VY 1995 on that grid\n",
    "vy95_abs = calculate_pure_absorption(new_abs_ener, olivine, md=MD)"
   ]
  },
  {
   "cell_type": "code",
   "execution_count": null,
   "metadata": {},
   "outputs": [],
   "source": [
    "plt.plot(ener2, abso2 * MD, color='purple', label='ISMdust')\n",
    "plt.plot(new_abs_ener, vy95_abs * olivine_dens, color='orange', label='VY 1995 olivine mix')\n",
    "plt.loglog()\n",
    "plt.xlabel('Energy ({})'.format(new_abs_ener.unit))\n",
    "plt.ylabel(r'Absorption $\\tau$ (NH/10$^{22}$)')\n",
    "plt.legend(loc='lower left')"
   ]
  },
  {
   "cell_type": "code",
   "execution_count": null,
   "metadata": {},
   "outputs": [],
   "source": [
    "plt.plot(new_abs_ener[rog_eners], vy95_abs[rog_eners] * olivine_dens, color='orange', label='VY 1995 olivine mix')\n",
    "plt.plot(ener, abso * NH, color='k', label='Rogantini olivine')\n",
    "plt.xlabel('Energy ({})'.format(new_abs_ener.unit))\n",
    "plt.ylabel(r'Absorption $\\tau$ (NH/10$^{22}$)')\n",
    "plt.legend(loc='upper right')"
   ]
  },
  {
   "cell_type": "markdown",
   "metadata": {},
   "source": [
    "Rescale the Rogantini cross-section to match VY 1995 on the left and right side"
   ]
  },
  {
   "cell_type": "code",
   "execution_count": null,
   "metadata": {},
   "outputs": [],
   "source": [
    "case_a_vy  = (vy95_abs[rog_eners][-1] - vy95_abs[rog_eners][0]) * olivine_dens\n",
    "case_a_rog = (abso[-1] - abso[0]) * NH\n",
    "abso_rescale = ((abso - abso[0]) * (case_a_vy/case_a_rog) * NH + vy95_abs[rog_eners][0] * olivine_dens) / NH"
   ]
  },
  {
   "cell_type": "code",
   "execution_count": null,
   "metadata": {},
   "outputs": [],
   "source": [
    "# Just to get a sense of the re-scale\n",
    "case_a_vy/case_a_rog"
   ]
  },
  {
   "cell_type": "code",
   "execution_count": null,
   "metadata": {},
   "outputs": [],
   "source": [
    "ener[1:] - ener[:-1]"
   ]
  },
  {
   "cell_type": "code",
   "execution_count": null,
   "metadata": {},
   "outputs": [],
   "source": [
    "ener[0], ener[-1]"
   ]
  },
  {
   "cell_type": "code",
   "execution_count": null,
   "metadata": {},
   "outputs": [],
   "source": [
    "12.4/6.7, 12.4/8.0"
   ]
  },
  {
   "cell_type": "code",
   "execution_count": null,
   "metadata": {},
   "outputs": [],
   "source": [
    "plt.plot(ener, abso_rescale * NH, color='k', label='Rogantini olivine rescaled')\n",
    "plt.plot(new_abs_ener[rog_eners], vy95_abs[rog_eners] * olivine_dens, \n",
    "         color='orange', ls='--', label='VY 1995 olivine mix')\n",
    "plt.xlabel('Energy ({})'.format(new_abs_ener.unit))\n",
    "plt.ylabel(r'Absorption $\\tau$ (NH/10$^{22}$)')\n",
    "plt.legend(loc='upper right')"
   ]
  },
  {
   "cell_type": "markdown",
   "metadata": {},
   "source": [
    "Now rescale ISMdust to the low-energy side of VY 1995, and insert the scaled Rogantini cross-section"
   ]
  },
  {
   "cell_type": "code",
   "execution_count": null,
   "metadata": {},
   "outputs": [],
   "source": [
    "from scipy.interpolate import interp1d"
   ]
  },
  {
   "cell_type": "code",
   "execution_count": null,
   "metadata": {},
   "outputs": [],
   "source": [
    "vy95_abs_interp = interp1d(new_abs_ener.value, vy95_abs.value)"
   ]
  },
  {
   "cell_type": "code",
   "execution_count": null,
   "metadata": {},
   "outputs": [],
   "source": [
    "temp_region = (ener2.value < ener[0].value)\n",
    "ismdust_rescale = abso2[temp_region][-1] * MD - \\\n",
    "    vy95_abs_interp(ener2[temp_region][-1].to('keV').value) * u.Unit('cm^2') * olivine_dens"
   ]
  },
  {
   "cell_type": "code",
   "execution_count": null,
   "metadata": {},
   "outputs": [],
   "source": [
    "print(abso2[temp_region][-1], ismdust_rescale / MD)"
   ]
  },
  {
   "cell_type": "markdown",
   "metadata": {},
   "source": [
    "So, I'll be rescaling the absorption component of ISMdust by 2%"
   ]
  },
  {
   "cell_type": "code",
   "execution_count": null,
   "metadata": {},
   "outputs": [],
   "source": [
    "new_ismdust_abs = abso2 - ismdust_rescale/MD"
   ]
  },
  {
   "cell_type": "code",
   "execution_count": null,
   "metadata": {},
   "outputs": [],
   "source": [
    "plt.plot(ener, abso_rescale * NH, color='k', label='Rogantini olivine rescaled')\n",
    "plt.plot(new_abs_ener, vy95_abs * olivine_dens, \n",
    "         color='orange', ls='--', label='VY 1995 olivine mix')\n",
    "plt.plot(ener2, new_ismdust_abs * MD, \n",
    "         color='purple', ls='--', label='ISMdust rescaled')\n",
    "plt.xlabel('Energy ({})'.format(new_abs_ener.unit))\n",
    "plt.ylabel(r'Absorption $\\tau$ (NH/10$^{22}$)')\n",
    "plt.legend(loc='upper left')\n",
    "plt.xlim(5.0, 8.5)\n",
    "plt.ylim(0.007, 0.03)"
   ]
  },
  {
   "cell_type": "code",
   "execution_count": null,
   "metadata": {},
   "outputs": [],
   "source": [
    "new_abs = np.append(np.append(new_ismdust_abs[temp_region] * MD, abso_rescale * NH), \n",
    "                    vy95_abs[new_abs_ener > ener[-1]] * olivine_dens) / MD"
   ]
  },
  {
   "cell_type": "code",
   "execution_count": null,
   "metadata": {},
   "outputs": [],
   "source": [
    "plt.plot(new_abs_ener, new_abs * MD, color='k', lw=3, label='Final Version')\n",
    "plt.plot(new_abs_ener, vy95_abs * olivine_dens, \n",
    "         color='orange', ls='--', label='VY 1995 olivine mix')\n",
    "plt.plot(ener2, new_ismdust_abs * MD, \n",
    "         color='purple', ls='--', label='ISMdust rescaled')\n",
    "plt.xlabel('Energy ({})'.format(new_abs_ener.unit))\n",
    "plt.ylabel(r'Absorption $\\tau$ (NH/10$^{22}$)')\n",
    "plt.legend(loc='upper left')\n",
    "plt.xlim(5.0, 8.5)\n",
    "plt.ylim(0.007, 0.03)\n",
    "plt.savefig('ismdust_olivine_FeK.pdf', format='pdf')"
   ]
  },
  {
   "cell_type": "code",
   "execution_count": null,
   "metadata": {},
   "outputs": [],
   "source": [
    "plt.plot(new_abs_ener, new_abs * MD, color='k', lw=3, label='Final Version')\n",
    "plt.plot(new_abs_ener, vy95_abs * olivine_dens, \n",
    "         color='orange', ls='--', label='VY 1995 olivine mix')\n",
    "plt.plot(ener2, new_ismdust_abs * MD, \n",
    "         color='purple', ls='--', label='ISMdust rescaled')\n",
    "plt.xlabel('Energy ({})'.format(new_abs_ener.unit))\n",
    "plt.ylabel(r'Absorption $\\tau$ (NH/10$^{22}$)')\n",
    "plt.legend(loc='lower left')\n",
    "plt.loglog()\n",
    "plt.savefig('ismdust_olivine.pdf', format='pdf')"
   ]
  },
  {
   "cell_type": "markdown",
   "metadata": {},
   "source": [
    "### Write the new absorption cross-section to a file"
   ]
  },
  {
   "cell_type": "code",
   "execution_count": null,
   "metadata": {},
   "outputs": [],
   "source": [
    "import datetime"
   ]
  },
  {
   "cell_type": "code",
   "execution_count": null,
   "metadata": {},
   "outputs": [],
   "source": [
    "MODEL_MDUST = 1.e-4 * u.Unit('g cm^-2')"
   ]
  },
  {
   "cell_type": "code",
   "execution_count": null,
   "metadata": {},
   "outputs": [],
   "source": [
    "def make_abs_fits(energy, xsect_abs, filename, md=MODEL_MDUST, clobber=True):    \n",
    "    col1 = fits.Column(name='energy', format='E', array=energy.to('eV').value)\n",
    "    col2 = fits.Column(name='angstroms', format='E', array=energy.to('angstrom', equivalencies=u.spectral()).value)\n",
    "    col3 = fits.Column(name='abs', format='E', array=xsect_abs.to('').value)\n",
    "    \n",
    "    cols  = fits.ColDefs([col1,col2,col3])\n",
    "    tbhdu = fits.BinTableHDU.from_columns(cols)\n",
    "    #tbhdu.writeto(filename)\n",
    "    \n",
    "    prihdr = fits.Header()\n",
    "    prihdr['MDUST']   = \"{:.3e}\".format(md.value)\n",
    "    prihdr['COMMENT'] = \"Created by %s on %s\" % (\"lia@astro.wisc.edu\", datetime.date.today())\n",
    "    prihdu = fits.PrimaryHDU(header=prihdr)\n",
    "    \n",
    "    thdulist = fits.HDUList([prihdu, tbhdu])\n",
    "    thdulist.writeto(filename, overwrite=clobber)\n",
    "    return"
   ]
  },
  {
   "cell_type": "code",
   "execution_count": null,
   "metadata": {},
   "outputs": [],
   "source": [
    "make_abs_fits(new_abs_ener, new_abs * MODEL_MDUST, \"ismdust_olivine_abs.fits\")"
   ]
  },
  {
   "cell_type": "markdown",
   "metadata": {},
   "source": [
    "### Test that the fits file works properly"
   ]
  },
  {
   "cell_type": "code",
   "execution_count": null,
   "metadata": {},
   "outputs": [],
   "source": [
    "test = fits.open(\"ismdust_olivine_abs.fits\")"
   ]
  },
  {
   "cell_type": "code",
   "execution_count": null,
   "metadata": {},
   "outputs": [],
   "source": [
    "test[0].header"
   ]
  },
  {
   "cell_type": "code",
   "execution_count": null,
   "metadata": {},
   "outputs": [],
   "source": [
    "test[1].data.columns"
   ]
  },
  {
   "cell_type": "code",
   "execution_count": null,
   "metadata": {},
   "outputs": [],
   "source": [
    "etest, abstest = test[1].data['energy'] * u.eV, test[1].data['abs']\n",
    "plt.plot(etest, abstest)\n",
    "plt.plot(new_abs_ener.to('eV'), new_abs * MODEL_MDUST.value, ls='--')\n",
    "plt.loglog()\n",
    "#plt.axvline(1.e3)\n",
    "#plt.axhline(0.4)"
   ]
  },
  {
   "cell_type": "code",
   "execution_count": null,
   "metadata": {},
   "outputs": [],
   "source": [
    "wtest, abstest = test[1].data['angstroms'], test[1].data['abs']\n",
    "plt.plot(wtest, abstest)\n",
    "plt.plot(new_abs_ener.to(u.angstrom, equivalencies=u.spectral()), new_abs  * MODEL_MDUST.value, ls='--')\n",
    "plt.loglog()"
   ]
  },
  {
   "cell_type": "code",
   "execution_count": null,
   "metadata": {},
   "outputs": [],
   "source": [
    "len(new_abs_ener), len(wtest)"
   ]
  },
  {
   "cell_type": "code",
   "execution_count": null,
   "metadata": {},
   "outputs": [],
   "source": []
  }
 ],
 "metadata": {
  "kernelspec": {
   "display_name": "newdust-dev",
   "language": "python",
   "name": "newdust-dev"
  },
  "language_info": {
   "codemirror_mode": {
    "name": "ipython",
    "version": 3
   },
   "file_extension": ".py",
   "mimetype": "text/x-python",
   "name": "python",
   "nbconvert_exporter": "python",
   "pygments_lexer": "ipython3",
   "version": "3.6.4"
  }
 },
 "nbformat": 4,
 "nbformat_minor": 2
}
