{
 "cells": [
  {
   "cell_type": "code",
   "execution_count": 1,
   "metadata": {},
   "outputs": [],
   "source": [
    "import numpy as np\n",
    "import matplotlib.pyplot as plt\n",
    "\n",
    "%matplotlib inline"
   ]
  },
  {
   "cell_type": "code",
   "execution_count": 2,
   "metadata": {},
   "outputs": [],
   "source": [
    "import astropy.units as u\n",
    "import astropy.constants as c\n",
    "\n",
    "import abundances\n",
    "import minerals\n",
    "import VY1995\n",
    "from molecules import Molecule"
   ]
  },
  {
   "cell_type": "markdown",
   "metadata": {},
   "source": [
    "# Play with different gas mixtures\n",
    "\n",
    "Use Verner & Yaklovev cross-sections to obtain absorption from X-ray to UV"
   ]
  },
  {
   "cell_type": "code",
   "execution_count": 3,
   "metadata": {},
   "outputs": [],
   "source": [
    "WAVEL = np.linspace(0.1, 600.0, 5000) * u.nm\n",
    "ENER  = WAVEL.to(u.eV, equivalencies=u.spectral())"
   ]
  },
  {
   "cell_type": "code",
   "execution_count": 4,
   "metadata": {},
   "outputs": [],
   "source": [
    "N2 = Molecule({'N':2}, name='N_2')\n",
    "O2 = Molecule({'O':2}, name='O_2')\n",
    "Ar = Molecule({'Ar':1}, name='Ar')\n",
    "CO2 = Molecule({'C':1, 'O':2}, name='CO_2')\n",
    "Ne = Molecule({'Ne':1}, name='Ne')\n",
    "O3 = Molecule({'O':3}, name='O_3')\n",
    "He = Molecule({'He':1}, name='He')\n",
    "CH4 = Molecule({'C':1, 'H':4}, name='CH_4')"
   ]
  },
  {
   "cell_type": "markdown",
   "metadata": {},
   "source": [
    "## Earth atmosphere\n",
    "\n",
    "From Table 1.1 of Chance & Martin (book: *Spectroscopy & Radiative Transfer of Planetary Atmospheres*)"
   ]
  },
  {
   "cell_type": "code",
   "execution_count": 5,
   "metadata": {},
   "outputs": [],
   "source": [
    "# list of tuples that describe molecular composition, by number\n",
    "earth_atmosphere = [(N2,0.78), (O2,0.21), (Ar, 9.3e-3), \n",
    "                    (CO2, 400.e-6), (Ne, 18.e-6), (O3, 0.1e-6), \n",
    "                    (He, 5.2e-6), (CH4, 1.8e-6)]\n",
    "\n",
    "# Some essential values\n",
    "earth_mean_mol   = 0.0289644 * u.kg / u.mol # mean molecular weight for dry air\n",
    "earth_mean_temp  = 288. * u.K\n",
    "earth_mean_num   = u.pascal / (c.R * earth_mean_temp) * c.N_A # mean number dens of molecules, mol/vol"
   ]
  },
  {
   "cell_type": "code",
   "execution_count": 6,
   "metadata": {},
   "outputs": [
    {
     "data": {
      "text/latex": [
       "$2.5149212 \\times 10^{14} \\; \\mathrm{\\frac{1}{cm^{3}}}$"
      ],
      "text/plain": [
       "<Quantity 2.51492121e+14 1 / cm3>"
      ]
     },
     "execution_count": 6,
     "metadata": {},
     "output_type": "execute_result"
    }
   ],
   "source": [
    "earth_mean_num.to('cm^-3')"
   ]
  },
  {
   "cell_type": "code",
   "execution_count": 7,
   "metadata": {},
   "outputs": [],
   "source": [
    "def calculate_elemental_number_density(mix, mean_num_dens=earth_mean_num, verbose=False):\n",
    "    \"\"\"\n",
    "    Inputs\n",
    "    ------\n",
    "    mix : list of tuples (Molecule, float)\n",
    "        The float describes fraction (by number) that the molecule occupies in the atmosphere\n",
    "    \n",
    "    mean_num_dens : float\n",
    "        Mean number density of molecules in the atmosphere (default: Earth)\n",
    "    \"\"\"\n",
    "    result = {}\n",
    "    for molecule, frac in mix:\n",
    "        for ele in molecule.elements:\n",
    "            if verbose: print('{} : {}: n={}'.format(molecule.name, ele, molecule.number(ele)))\n",
    "            if ele in result.keys():\n",
    "                result[ele] += mean_num_dens * frac * molecule.number(ele)\n",
    "            else:\n",
    "                result[ele] = mean_num_dens * frac * molecule.number(ele)\n",
    "    return result"
   ]
  },
  {
   "cell_type": "code",
   "execution_count": 8,
   "metadata": {},
   "outputs": [
    {
     "name": "stdout",
     "output_type": "stream",
     "text": [
      "N_2 : N: n=2\n",
      "O_2 : O: n=2\n",
      "Ar : Ar: n=1\n",
      "CO_2 : C: n=1\n",
      "CO_2 : O: n=2\n",
      "Ne : Ne: n=1\n",
      "O_3 : O: n=3\n",
      "He : He: n=1\n",
      "CH_4 : C: n=1\n",
      "CH_4 : H: n=4\n"
     ]
    }
   ],
   "source": [
    "earth_elem_num_dens = calculate_elemental_number_density(earth_atmosphere, verbose=True)"
   ]
  },
  {
   "cell_type": "code",
   "execution_count": 9,
   "metadata": {},
   "outputs": [
    {
     "name": "stdout",
     "output_type": "stream",
     "text": [
      "N : 3.9e+14 1 / cm3\n",
      "O : 1.1e+14 1 / cm3\n",
      "Ar : 2.3e+12 1 / cm3\n",
      "C : 1.0e+11 1 / cm3\n",
      "Ne : 4.5e+09 1 / cm3\n",
      "He : 1.3e+09 1 / cm3\n",
      "H : 1.8e+09 1 / cm3\n"
     ]
    }
   ],
   "source": [
    "for ele in earth_elem_num_dens.keys():\n",
    "    print('{} : {:.1e}'.format(ele, earth_elem_num_dens[ele].to('cm^-3')))"
   ]
  },
  {
   "cell_type": "markdown",
   "metadata": {},
   "source": [
    "Now computer VY 1995 cross-sections for these abundances"
   ]
  },
  {
   "cell_type": "code",
   "execution_count": 10,
   "metadata": {},
   "outputs": [],
   "source": [
    "xsects = {ele:VY1995.compute_xsect(ENER, abundances.Z[ele], 0) * earth_elem_num_dens[ele]\n",
    "          for ele in earth_elem_num_dens.keys()}\n",
    "\n",
    "total_xsect = np.zeros(len(ENER)) / u.cm\n",
    "for ele in earth_elem_num_dens:\n",
    "    total_xsect += xsects[ele]"
   ]
  },
  {
   "cell_type": "code",
   "execution_count": 11,
   "metadata": {},
   "outputs": [],
   "source": [
    "def plot_bands(ax):\n",
    "    # these are in nm units\n",
    "    # Some energy bands for Astro-Sat. Update with a different telescope at some point\n",
    "    ax.axvspan(130., 180., facecolor='magenta', alpha=0.5)\n",
    "    ax.axvspan(180., 300., facecolor='blue', alpha=0.5)\n",
    "    ax.axvspan(320., 530., facecolor='cyan', alpha=0.5)\n",
    "    ax.axvspan(12.4/8.0/10., 12.4/0.3/10., facecolor='orange', alpha=0.3) # X-ray band"
   ]
  },
  {
   "cell_type": "code",
   "execution_count": 19,
   "metadata": {},
   "outputs": [
    {
     "data": {
      "image/png": "[encoded data removed]",
      "text/plain": [
       "<matplotlib.figure.Figure at 0x151526e630>"
      ]
     },
     "metadata": {},
     "output_type": "display_data"
    }
   ],
   "source": [
    "ax = plt.subplot(111)\n",
    "\n",
    "YLIM = [0.1, 1.e3]\n",
    "plt.plot(WAVEL, total_xsect.to('km^-1'), color='k')\n",
    "for ele in earth_elem_num_dens.keys():\n",
    "    if np.max(xsects[ele].to('km^-1').value) > YLIM[0]:\n",
    "        plt.plot(WAVEL, xsects[ele].to('km^-1'), ls='--', label=ele)\n",
    "\n",
    "plt.loglog()\n",
    "plt.xlim(0.1, 600)\n",
    "plt.ylim(YLIM)\n",
    "plt.xlabel('Wavelength ({})'.format(WAVEL.unit))\n",
    "plt.ylabel(r'$d\\tau/dz$ ({})'.format(total_xsect.to('km^-1').unit))\n",
    "plt.legend(loc='upper left')\n",
    "plot_bands(ax)\n",
    "\n",
    "plt.title('Earth Composition, gas only')\n",
    "plt.tight_layout()\n",
    "plt.savefig('earth_comp.pdf', format='pdf')"
   ]
  },
  {
   "cell_type": "code",
   "execution_count": 13,
   "metadata": {},
   "outputs": [
    {
     "data": {
      "text/plain": [
       "Text(0.5,1,'Earth Composition, atomic phase')"
      ]
     },
     "execution_count": 13,
     "metadata": {},
     "output_type": "execute_result"
    },
    {
     "data": {
      "image/png": "[encoded data removed]",
      "text/plain": [
       "<matplotlib.figure.Figure at 0x10b410ef0>"
      ]
     },
     "metadata": {},
     "output_type": "display_data"
    }
   ],
   "source": [
    "plt.plot(ENER, total_xsect.to('km^-1'), color='k')\n",
    "for ele in earth_elem_num_dens.keys():\n",
    "    plt.plot(ENER, xsects[ele].to('km^-1'), ls='--', label=ele)\n",
    "plt.semilogy()\n",
    "plt.xlim(10.0, 2.e3)\n",
    "plt.ylim(0.1, 1.e3)\n",
    "plt.xlabel('Energy ({})'.format(ENER.unit))\n",
    "plt.ylabel(r'$d\\tau/dz$ ({})'.format(total_xsect.to('km^-1').unit))\n",
    "plt.legend(loc='upper right')\n",
    "\n",
    "plt.title('Earth Composition, atomic phase')"
   ]
  },
  {
   "cell_type": "markdown",
   "metadata": {
    "collapsed": true
   },
   "source": [
    "## Why do they all cut off around 100 nm?"
   ]
  },
  {
   "cell_type": "code",
   "execution_count": 14,
   "metadata": {},
   "outputs": [],
   "source": [
    "from astropy.table import Table"
   ]
  },
  {
   "cell_type": "code",
   "execution_count": 15,
   "metadata": {},
   "outputs": [],
   "source": [
    "vy1995 = Table.read(VY1995.VY_TABLE_FILE, format='ascii')"
   ]
  },
  {
   "cell_type": "code",
   "execution_count": 16,
   "metadata": {},
   "outputs": [
    {
     "data": {
      "text/plain": [
       "['Z', 'N', 'n', 'l', 'E_th_', 'E_0_', 'sigma_0_', 'y_a_', 'P', 'y_w_']"
      ]
     },
     "execution_count": 16,
     "metadata": {},
     "output_type": "execute_result"
    }
   ],
   "source": [
    "vy1995.colnames"
   ]
  },
  {
   "cell_type": "code",
   "execution_count": 17,
   "metadata": {},
   "outputs": [
    {
     "data": {
      "text/html": [
       "<i>Table length=18</i>\n",
       "<table id=\"table4483435880\" class=\"table-striped table-bordered table-condensed\">\n",
       "<thead><tr><th>Z</th><th>N</th><th>n</th><th>l</th><th>E_th_</th></tr></thead>\n",
       "<thead><tr><th>int64</th><th>int64</th><th>int64</th><th>int64</th><th>float64</th></tr></thead>\n",
       "<tr><td>8</td><td>8</td><td>2</td><td>1</td><td>13.6</td></tr>\n",
       "<tr><td>8</td><td>8</td><td>2</td><td>0</td><td>28.5</td></tr>\n",
       "<tr><td>8</td><td>8</td><td>1</td><td>0</td><td>538.0</td></tr>\n",
       "<tr><td>8</td><td>7</td><td>2</td><td>1</td><td>35.1</td></tr>\n",
       "<tr><td>8</td><td>7</td><td>2</td><td>0</td><td>46.0</td></tr>\n",
       "<tr><td>8</td><td>7</td><td>1</td><td>0</td><td>558.0</td></tr>\n",
       "<tr><td>8</td><td>6</td><td>2</td><td>1</td><td>54.9</td></tr>\n",
       "<tr><td>8</td><td>6</td><td>2</td><td>0</td><td>65.5</td></tr>\n",
       "<tr><td>8</td><td>6</td><td>1</td><td>0</td><td>584.0</td></tr>\n",
       "<tr><td>8</td><td>5</td><td>2</td><td>1</td><td>77.4</td></tr>\n",
       "<tr><td>8</td><td>5</td><td>2</td><td>0</td><td>87.4</td></tr>\n",
       "<tr><td>8</td><td>5</td><td>1</td><td>0</td><td>614.0</td></tr>\n",
       "<tr><td>8</td><td>4</td><td>2</td><td>0</td><td>114.0</td></tr>\n",
       "<tr><td>8</td><td>4</td><td>1</td><td>0</td><td>649.0</td></tr>\n",
       "<tr><td>8</td><td>3</td><td>2</td><td>0</td><td>138.0</td></tr>\n",
       "<tr><td>8</td><td>3</td><td>1</td><td>0</td><td>684.0</td></tr>\n",
       "<tr><td>8</td><td>2</td><td>1</td><td>0</td><td>739.0</td></tr>\n",
       "<tr><td>8</td><td>1</td><td>1</td><td>0</td><td>871.0</td></tr>\n",
       "</table>"
      ],
      "text/plain": [
       "<Table length=18>\n",
       "  Z     N     n     l    E_th_ \n",
       "int64 int64 int64 int64 float64\n",
       "----- ----- ----- ----- -------\n",
       "    8     8     2     1    13.6\n",
       "    8     8     2     0    28.5\n",
       "    8     8     1     0   538.0\n",
       "    8     7     2     1    35.1\n",
       "    8     7     2     0    46.0\n",
       "    8     7     1     0   558.0\n",
       "    8     6     2     1    54.9\n",
       "    8     6     2     0    65.5\n",
       "    8     6     1     0   584.0\n",
       "    8     5     2     1    77.4\n",
       "    8     5     2     0    87.4\n",
       "    8     5     1     0   614.0\n",
       "    8     4     2     0   114.0\n",
       "    8     4     1     0   649.0\n",
       "    8     3     2     0   138.0\n",
       "    8     3     1     0   684.0\n",
       "    8     2     1     0   739.0\n",
       "    8     1     1     0   871.0"
      ]
     },
     "execution_count": 17,
     "metadata": {},
     "output_type": "execute_result"
    }
   ],
   "source": [
    "vy1995[['Z','N','n','l','E_th_']][vy1995['Z'] == 8]"
   ]
  },
  {
   "cell_type": "code",
   "execution_count": null,
   "metadata": {},
   "outputs": [],
   "source": []
  }
 ],
 "metadata": {
  "kernelspec": {
   "display_name": "newdust-dev",
   "language": "python",
   "name": "newdust-dev"
  },
  "language_info": {
   "codemirror_mode": {
    "name": "ipython",
    "version": 3
   },
   "file_extension": ".py",
   "mimetype": "text/x-python",
   "name": "python",
   "nbconvert_exporter": "python",
   "pygments_lexer": "ipython3",
   "version": "3.6.4"
  }
 },
 "nbformat": 4,
 "nbformat_minor": 2
}
